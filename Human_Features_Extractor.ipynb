{
 "cells": [
  {
   "cell_type": "markdown",
   "metadata": {},
   "source": [
    "# Features extractor"
   ]
  },
  {
   "cell_type": "markdown",
   "metadata": {},
   "source": [
    "## Read datasets"
   ]
  },
  {
   "cell_type": "code",
   "execution_count": 1,
   "metadata": {},
   "outputs": [],
   "source": [
    "import pandas as pd\n",
    "import numpy as np\n",
    "import datetime\n",
    "import config as c\n",
    "from collections import OrderedDict"
   ]
  },
  {
   "cell_type": "code",
   "execution_count": 2,
   "metadata": {},
   "outputs": [],
   "source": [
    "compute_only_class_a = True\n",
    "datasets_fake = [\"FSF\", \"INT\", \"TWT\"]\n",
    "datasets_hum = [\"TFP\", \"E13\"]\n",
    "datasets = datasets_hum# + datasets_fake"
   ]
  },
  {
   "cell_type": "code",
   "execution_count": 6,
   "metadata": {},
   "outputs": [],
   "source": [
    "users = pd.read_csv(c.folder_datasets + datasets[0] + '/' + c.file_users)\n",
    "tweets = pd.read_csv(c.folder_datasets + datasets[0] + '/' + c.file_tweets, dtype={\"geo\": str})\n",
    "friends = pd.read_csv(c.folder_datasets + datasets[0] + '/' + c.file_friends)\n",
    "followers = pd.read_csv(c.folder_datasets + datasets[0] + '/' + c.file_followers)\n",
    "for dataset in datasets[1:]:\n",
    "    users = pd.concat([users, pd.read_csv(c.folder_datasets + dataset + '/' + c.file_users)])\n",
    "    tweets = pd.concat([tweets, pd.read_csv(c.folder_datasets + dataset + '/' + c.file_tweets, dtype={\"geo\": str})])\n",
    "    friends = pd.concat([friends, pd.read_csv(c.folder_datasets + dataset + '/' + c.file_friends)])\n",
    "    followers = pd.concat([followers, pd.read_csv(c.folder_datasets + dataset + '/' + c.file_followers)])  "
   ]
  },
  {
   "cell_type": "markdown",
   "metadata": {},
   "source": [
    "## Compute features"
   ]
  },
  {
   "cell_type": "code",
   "execution_count": 7,
   "metadata": {},
   "outputs": [],
   "source": [
    "def is_from_web():\n",
    "    for n in tweets.source.unique():\n",
    "        for src in [\"iphone\", \"android\", \"foursquare\", \"instagram\", \"web\"]:\n",
    "            if src in n.lower():\n",
    "                return 1\n",
    "    return 0\n",
    "\n",
    "import string\n",
    "def use_ponctuation(user_id):\n",
    "    # If one tweets use ponctuation return 1\n",
    "    user_tweets = tweets.loc[tweets['user_id'] == user['id'], 'text']\n",
    "    for tweet in user_tweets:\n",
    "        for c in tweet:\n",
    "            # See if the char is punctuation.\n",
    "            if c in string.punctuation:\n",
    "                return 1\n",
    "        return 0\n"
   ]
  },
  {
   "cell_type": "code",
   "execution_count": 14,
   "metadata": {},
   "outputs": [
    {
     "name": "stderr",
     "output_type": "stream",
     "text": [
      "<ipython-input-14-0270577a416d>:17: FutureWarning: The pandas.np module is deprecated and will be removed from pandas in a future version. Import numpy directly instead\n",
      "  acc_feat['has_name'] = int(user['name'] not in ['NULL', 'NaN', '', ' ', pd.np.nan])\n",
      "<ipython-input-14-0270577a416d>:19: FutureWarning: The pandas.np module is deprecated and will be removed from pandas in a future version. Import numpy directly instead\n",
      "  acc_feat['has_address'] = int(user['location'] not in ['NULL', 'NaN', '', ' ', pd.np.nan])\n",
      "<ipython-input-14-0270577a416d>:20: FutureWarning: The pandas.np module is deprecated and will be removed from pandas in a future version. Import numpy directly instead\n",
      "  acc_feat['has_biography'] = int(user['description'] not in ['NULL', 'NaN', '', ' ', pd.np.nan])\n",
      "<ipython-input-14-0270577a416d>:24: FutureWarning: The pandas.np module is deprecated and will be removed from pandas in a future version. Import numpy directly instead\n",
      "  acc_feat['url_in_profile'] = int(user['url'] not in ['NULL', 'NaN', '', ' ', pd.np.nan])\n",
      "<ipython-input-14-0270577a416d>:34: FutureWarning: The pandas.np module is deprecated and will be removed from pandas in a future version. Import numpy directly instead\n",
      "  acc_feat['no_bio'] = int(user['description'] in ['NULL', 'NaN', '', ' ', pd.np.nan])\n",
      "<ipython-input-14-0270577a416d>:35: FutureWarning: The pandas.np module is deprecated and will be removed from pandas in a future version. Import numpy directly instead\n",
      "  acc_feat['no_location'] = int(user['location'] in ['NULL', 'NaN', '', ' ', pd.np.nan])\n"
     ]
    },
    {
     "name": "stdout",
     "output_type": "stream",
     "text": [
      "Feature computation time : 0:00:19.330887\n"
     ]
    }
   ],
   "source": [
    "import time\n",
    "import datetime\n",
    "start_time = time.time()\n",
    "SAMPLE_SIZE = 100\n",
    "X = list()\n",
    "y = list()\n",
    "features_name = list()\n",
    "nb_fake_acc =0\n",
    "# Compute features for each Twitter account\n",
    "for index, user in users.iterrows():\n",
    "    acc_feat = OrderedDict()\n",
    "    #if index > SAMPLE_SIZE:\n",
    "    #    break\n",
    "    \n",
    "    # Class A (Profile)\n",
    "    #===================\n",
    "    acc_feat['has_name'] = int(user['name'] not in ['NULL', 'NaN', '', ' ', pd.np.nan])\n",
    "    acc_feat['has_image'] = int(user['default_profile_image'] != 1)\n",
    "    acc_feat['has_address'] = int(user['location'] not in ['NULL', 'NaN', '', ' ', pd.np.nan])\n",
    "    acc_feat['has_biography'] = int(user['description'] not in ['NULL', 'NaN', '', ' ', pd.np.nan])\n",
    "    acc_feat['followers_ge_30'] = int(user['followers_count'] >= 30)\n",
    "    acc_feat['belongs_to_a_list'] = int(user['listed_count'] > 0)\n",
    "    acc_feat['nb_tweets_ge_50'] = int(tweets.loc[tweets['user_id'] == user['id']].size >= 50)\n",
    "    acc_feat['url_in_profile'] = int(user['url'] not in ['NULL', 'NaN', '', ' ', pd.np.nan])\n",
    "    acc_feat['followers_2_times_ge_friends'] = int(2 * user['followers_count'] >= user['friends_count'])\n",
    "    \n",
    "    acc_feat['bot_in_biography'] = int(type(user['description']) is str and 'bot' in user['description'].lower())\n",
    "    acc_feat['ratio_friends_followers_around_100'] = int(user['followers_count'] > 0 and 80.0 <= float(user['friends_count']) / user['followers_count'] >= 120.0)\n",
    "    acc_feat['duplicate_profile_picture'] = int(users.loc[users['default_profile_image'] == user['default_profile_image']].size > 1)\n",
    "    \n",
    "    acc_feat['ratio_friends_followers_ge_50'] = int(user['followers_count'] > 0 and float(user['friends_count']) / user['followers_count'] >= 50)\n",
    "    acc_feat['default_image_after_2_month'] = int(user['default_profile_image'] == 1 and (datetime.datetime.now() - datetime.datetime.strptime(user['created_at'],'%a %b %d %H:%M:%S +0000 %Y')) > datetime.timedelta(weeks=4)) \n",
    "    acc_feat['friends_ge_100'] = int(user['friends_count'] >= 100)\n",
    "    acc_feat['no_bio'] = int(user['description'] in ['NULL', 'NaN', '', ' ', pd.np.nan])\n",
    "    acc_feat['no_location'] = int(user['location'] in ['NULL', 'NaN', '', ' ', pd.np.nan])\n",
    "    acc_feat['no_tweets'] = int(tweets.loc[tweets['user_id'] == user['id']].size == 0)\n",
    "    \n",
    "    acc_feat['nb_friends'] = int(user['friends_count'])\n",
    "    acc_feat['nb_tweets'] = int(tweets.loc[tweets['user_id'] == user['id']].size)\n",
    "    acc_feat['ratio_friends_followers_square'] = float(user['friends_count']) / pow(user['followers_count'], 2) if user['followers_count'] > 0 else 0\n",
    "    \n",
    "    acc_feat['age'] = (datetime.datetime.now() - datetime.datetime.strptime(user['created_at'],'%a %b %d %H:%M:%S +0000 %Y')).total_seconds()\n",
    "    acc_feat['following_rate'] = float(user['friends_count']) / acc_feat['age']\n",
    "    \n",
    "    # Class B (Timeline)\n",
    "    #===================\n",
    "    if not compute_only_class_a:\n",
    "        #acc_feat['geo_localized'] = int(tweets.loc[tweets['user_id'] == user['id'] & (tweets['geo'] != '')].size)\n",
    "        #acc_feat['is_favorite'] = int(tweets.loc[tweets['user_id'] == user['id'] & (tweets['favorite_count'] > 0)].size)\n",
    "        #acc_feat['from_web'] = is_from_web()\n",
    "        #acc_feat['use_ponctuation'] = use_ponctuation(user['id'])\n",
    "        \n",
    "        #acc_feat['same_sentence']\n",
    "        acc_feat['from_API'] = tweets.loc[tweets['user_id'] == user['id'] & (tweets['source'] != '<a href=\"http://twitter.com/tweetbutton\" rel=\"nofollow\">Tweet Button</a>')].size > 0\n",
    "        \n",
    "    \n",
    "    target = 1 #if user['dataset'] in datasets_fake else 0\n",
    "    nb_fake_acc = nb_fake_acc + target\n",
    "    \n",
    "    y.append(target)\n",
    "    X.append(list(acc_feat.values()))\n",
    "    features_name = list(acc_feat.keys())\n",
    "nb_hum_acc = abs(len(y) - nb_fake_acc)\n",
    "total_time = datetime.timedelta(seconds=time.time() - start_time)\n",
    "print(\"Feature computation time : \" + str(total_time))"
   ]
  },
  {
   "cell_type": "code",
   "execution_count": 18,
   "metadata": {},
   "outputs": [
    {
     "name": "stdout",
     "output_type": "stream",
     "text": [
      "TOTAL accounts: 66300\n",
      "# fake accounts: 1950\n",
      "# human accounts: 0\n",
      "Features name: ['has_name', 'has_image', 'has_address', 'has_biography', 'followers_ge_30', 'belongs_to_a_list', 'nb_tweets_ge_50', 'url_in_profile', 'followers_2_times_ge_friends', 'bot_in_biography', 'ratio_friends_followers_around_100', 'duplicate_profile_picture', 'ratio_friends_followers_ge_50', 'default_image_after_2_month', 'friends_ge_100', 'no_bio', 'no_location', 'no_tweets', 'nb_friends', 'nb_tweets', 'ratio_friends_followers_square', 'age', 'following_rate']\n",
      "1950 1950\n",
      "[1, 1, 1, 1, 1, 1, 1, 1, 1, 0, 0, 0, 0, 0, 1, 0, 0, 0, 1466, 67089, 5.7370898357435176e-05, 440087514.973174, 3.331155622738722e-06] 1\n"
     ]
    }
   ],
   "source": [
    "print(\"TOTAL accounts: \" + str(users.size))\n",
    "print(\"# fake accounts: \" + str(nb_fake_acc))\n",
    "print(\"# human accounts: \" + str(nb_hum_acc))\n",
    "print(\"Features name: \" + str(list(features_name)))\n",
    "print(len(X), len(y))\n",
    "print(X[0], y[0])"
   ]
  }
 ],
 "metadata": {
  "kernelspec": {
   "display_name": "Python 3",
   "language": "python",
   "name": "python3"
  },
  "language_info": {
   "codemirror_mode": {
    "name": "ipython",
    "version": 3
   },
   "file_extension": ".py",
   "mimetype": "text/x-python",
   "name": "python",
   "nbconvert_exporter": "python",
   "pygments_lexer": "ipython3",
   "version": "3.8.3"
  }
 },
 "nbformat": 4,
 "nbformat_minor": 2
}
