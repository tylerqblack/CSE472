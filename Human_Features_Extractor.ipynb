{
 "cells": [
  {
   "cell_type": "markdown",
   "metadata": {},
   "source": [
    "## Read datasets"
   ]
  },
  {
   "cell_type": "code",
   "execution_count": 1,
   "metadata": {},
   "outputs": [],
   "source": [
    "import pandas as pd\n",
    "import numpy as np\n",
    "import datetime\n",
    "import config as c\n",
    "from collections import OrderedDict"
   ]
  },
  {
   "cell_type": "code",
   "execution_count": 2,
   "metadata": {},
   "outputs": [],
   "source": [
    "compute_only_class_a = True\n",
    "datasets_fake = [\"FSF\", \"INT\", \"TWT\"]\n",
    "datasets_hum = [\"TFP\", \"E13\"]\n",
    "datasets = datasets_hum"
   ]
  },
  {
   "cell_type": "code",
   "execution_count": 3,
   "metadata": {},
   "outputs": [],
   "source": [
    "users = pd.read_csv(c.folder_datasets + datasets[0] + '/' + c.file_users)\n",
    "tweets = pd.read_csv(c.folder_datasets + datasets[0] + '/' + c.file_tweets, dtype={\"geo\": str})\n",
    "friends = pd.read_csv(c.folder_datasets + datasets[0] + '/' + c.file_friends)\n",
    "followers = pd.read_csv(c.folder_datasets + datasets[0] + '/' + c.file_followers)\n",
    "for dataset in datasets[1:]:\n",
    "    users = pd.concat([users, pd.read_csv(c.folder_datasets + dataset + '/' + c.file_users)])\n",
    "    tweets = pd.concat([tweets, pd.read_csv(c.folder_datasets + dataset + '/' + c.file_tweets, dtype={\"geo\": str})])\n",
    "    friends = pd.concat([friends, pd.read_csv(c.folder_datasets + dataset + '/' + c.file_friends)])\n",
    "    followers = pd.concat([followers, pd.read_csv(c.folder_datasets + dataset + '/' + c.file_followers)])  "
   ]
  },
  {
   "cell_type": "markdown",
   "metadata": {},
   "source": [
    "## Compute features"
   ]
  },
  {
   "cell_type": "code",
   "execution_count": 4,
   "metadata": {},
   "outputs": [],
   "source": [
    "def is_from_web():\n",
    "    for n in tweets.source.unique():\n",
    "        for src in [\"iphone\", \"android\", \"foursquare\", \"instagram\", \"web\"]:\n",
    "            if src in n.lower():\n",
    "                return 1\n",
    "    return 0\n",
    "\n",
    "import string\n",
    "def use_ponctuation(user_id):\n",
    "    # If one tweets use ponctuation return 1\n",
    "    user_tweets = tweets.loc[tweets['user_id'] == user['id'], 'text']\n",
    "    for tweet in user_tweets:\n",
    "        for c in tweet:\n",
    "            # See if the char is punctuation.\n",
    "            if c in string.punctuation:\n",
    "                return 1\n",
    "        return 0\n"
   ]
  },
  {
   "cell_type": "code",
   "execution_count": 5,
   "metadata": {},
   "outputs": [
    {
     "name": "stderr",
     "output_type": "stream",
     "text": [
      "<ipython-input-5-aa51f99880d2>:27: FutureWarning: The pandas.np module is deprecated and will be removed from pandas in a future version. Import numpy directly instead\n",
      "  acc_feat['has_name'] = int(user['name'] not in ['NULL', 'NaN', '', ' ', pd.np.nan])\n",
      "<ipython-input-5-aa51f99880d2>:29: FutureWarning: The pandas.np module is deprecated and will be removed from pandas in a future version. Import numpy directly instead\n",
      "  acc_feat['has_address'] = int(user['location'] not in ['NULL', 'NaN', '', ' ', pd.np.nan])\n",
      "<ipython-input-5-aa51f99880d2>:30: FutureWarning: The pandas.np module is deprecated and will be removed from pandas in a future version. Import numpy directly instead\n",
      "  acc_feat['has_biography'] = int(user['description'] not in ['NULL', 'NaN', '', ' ', pd.np.nan])\n",
      "<ipython-input-5-aa51f99880d2>:34: FutureWarning: The pandas.np module is deprecated and will be removed from pandas in a future version. Import numpy directly instead\n",
      "  acc_feat['url_in_profile'] = int(user['url'] not in ['NULL', 'NaN', '', ' ', pd.np.nan])\n",
      "<ipython-input-5-aa51f99880d2>:43: FutureWarning: The pandas.np module is deprecated and will be removed from pandas in a future version. Import numpy directly instead\n",
      "  acc_feat['no_bio'] = int(user['description'] in ['NULL', 'NaN', '', ' ', pd.np.nan])\n",
      "<ipython-input-5-aa51f99880d2>:44: FutureWarning: The pandas.np module is deprecated and will be removed from pandas in a future version. Import numpy directly instead\n",
      "  acc_feat['no_location'] = int(user['location'] in ['NULL', 'NaN', '', ' ', pd.np.nan])\n"
     ]
    },
    {
     "name": "stdout",
     "output_type": "stream",
     "text": [
      "Feature computation time : 0:00:00.505649\n"
     ]
    }
   ],
   "source": [
    "import time\n",
    "import datetime\n",
    "start_time = time.time()\n",
    "SAMPLE_SIZE = 100\n",
    "X = list()\n",
    "y = list()\n",
    "features_name = list()\n",
    "nb_fake_acc =0\n",
    "# Compute features for each Twitter account\n",
    "dataset = list()\n",
    "for index, user in users.iterrows():\n",
    "    instance = dict()\n",
    "    acc_feat = dict()\n",
    "    #if index > SAMPLE_SIZE:\n",
    "    #    break\n",
    "    \n",
    "    # Class A (Profile)\n",
    "    #===================\n",
    "    if int(user['followers_count']) == 0:\n",
    "        acc_feat[\"friends/follower_ratio\"] = 0\n",
    "    else :\n",
    "        acc_feat[\"friends/follower_ratio\"] = int(user['friends_count'])/(int(user['followers_count'])**2)\n",
    "\n",
    "    acc_feat['bot_in_biography'] = int(type(user['description']) is str and 'bot' in user['description'].lower())\n",
    "    acc_feat['bot_in_name'] = int('bot' in user['screen_name'].lower())\n",
    "    \n",
    "    acc_feat['has_name'] = int(user['name'] not in ['NULL', 'NaN', '', ' ', pd.np.nan])\n",
    "    acc_feat['has_image'] = int(user['default_profile_image'] != 1)\n",
    "    acc_feat['has_address'] = int(user['location'] not in ['NULL', 'NaN', '', ' ', pd.np.nan])\n",
    "    acc_feat['has_biography'] = int(user['description'] not in ['NULL', 'NaN', '', ' ', pd.np.nan])\n",
    "    acc_feat['followers_ge_30'] = int(user['followers_count'] >= 30)\n",
    "    acc_feat['belongs_to_a_list'] = int(user['listed_count'] > 0)\n",
    "    #acc_feat['nb_tweets_ge_50'] = int(tweets.loc[tweets['user_id'] == user['id']].size >= 50)\n",
    "    acc_feat['url_in_profile'] = int(user['url'] not in ['NULL', 'NaN', '', ' ', pd.np.nan])\n",
    "    #acc_feat['followers_2_times_ge_friends'] = int(2 * user['followers_count'] >= user['friends_count'])\n",
    "    \n",
    "    #acc_feat['ratio_friends_followers_around_100'] = int(user['followers_count'] > 0 and 80.0 <= float(user['friends_count']) / user['followers_count'] >= 120.0)\n",
    "    #acc_feat['duplicate_profile_picture'] = int(users.loc[users['default_profile_image'] == user['default_profile_image']].size > 1)\n",
    "    \n",
    "    acc_feat['ratio_friends_followers_ge_50'] = int(user['followers_count'] > 0 and float(user['friends_count']) / user['followers_count'] >= 50)\n",
    "    acc_feat['default_image_after_2_month'] = int(user['default_profile_image'] == 1 and (datetime.datetime.now() - datetime.datetime.strptime(user['created_at'],'%a %b %d %H:%M:%S +0000 %Y')) > datetime.timedelta(weeks=4)) \n",
    "    acc_feat['friends_ge_100'] = int(user['friends_count'] >= 100)\n",
    "    acc_feat['no_bio'] = int(user['description'] in ['NULL', 'NaN', '', ' ', pd.np.nan])\n",
    "    acc_feat['no_location'] = int(user['location'] in ['NULL', 'NaN', '', ' ', pd.np.nan])\n",
    "    #acc_feat['no_tweets'] = int(tweets.loc[tweets['user_id'] == user['id']].size == 0)\n",
    "    \n",
    "    acc_feat['nb_friends'] = int(user['friends_count'])\n",
    "    #acc_feat['nb_tweets'] = int(tweets.loc[tweets['user_id'] == user['id']].size)\n",
    "    #acc_feat['ratio_friends_followers_square'] = float(user['friends_count']) / pow(user['followers_count'], 2) if user['followers_count'] > 0 else 0\n",
    "    #acc_feat['age'] = (datetime.datetime.now() - datetime.datetime.strptime(user['created_at'],'%a %b %d %H:%M:%S +0000 %Y')).total_seconds()\n",
    "    #acc_feat['following_rate'] = float(user['friends_count']) / acc_feat['age']\n",
    "    \n",
    "    # Class B (Timeline)\n",
    "    #===================\n",
    "    if not compute_only_class_a:\n",
    "        #acc_feat['geo_localized'] = int(tweets.loc[tweets['user_id'] == user['id'] & (tweets['geo'] != '')].size)\n",
    "        #acc_feat['is_favorite'] = int(tweets.loc[tweets['user_id'] == user['id'] & (tweets['favorite_count'] > 0)].size)\n",
    "        #acc_feat['from_web'] = is_from_web()\n",
    "        #acc_feat['use_ponctuation'] = use_ponctuation(user['id'])\n",
    "        \n",
    "        #acc_feat['same_sentence']\n",
    "        acc_feat['from_API'] = tweets.loc[tweets['user_id'] == user['id'] & (tweets['source'] != '<a href=\"http://twitter.com/tweetbutton\" rel=\"nofollow\">Tweet Button</a>')].size > 0\n",
    "        \n",
    "    \n",
    "    target = 1 if user['dataset'] in datasets_fake else 0\n",
    "    nb_fake_acc = nb_fake_acc + target\n",
    "    \n",
    "    y.append(target)\n",
    "    instance[\"id\"] = user[\"id\"]\n",
    "    instance[\"screen_name\"] = user[\"screen_name\"]\n",
    "    instance[\"features\"] = acc_feat\n",
    "    dataset.append(instance)\n",
    "    features_name = list(acc_feat.keys())\n",
    "nb_hum_acc = abs(len(y) - nb_fake_acc)\n",
    "total_time = datetime.timedelta(seconds=time.time() - start_time)\n",
    "print(\"Feature computation time : \" + str(total_time))"
   ]
  },
  {
   "cell_type": "code",
   "execution_count": 6,
   "metadata": {},
   "outputs": [
    {
     "name": "stdout",
     "output_type": "stream",
     "text": [
      "TOTAL accounts: 66300\n",
      "# fake accounts: 0\n",
      "# human accounts: 1950\n",
      "Features name: ['friends/follower_ratio', 'bot_in_biography', 'bot_in_name', 'has_name', 'has_image', 'has_address', 'has_biography', 'followers_ge_30', 'belongs_to_a_list', 'url_in_profile', 'ratio_friends_followers_ge_50', 'default_image_after_2_month', 'friends_ge_100', 'no_bio', 'no_location', 'nb_friends']\n",
      "{'id': 24503, 'screen_name': 'Bonanzinga', 'features': {'friends/follower_ratio': 5.7370898357435176e-05, 'bot_in_biography': 0, 'bot_in_name': 0, 'has_name': 1, 'has_image': 1, 'has_address': 1, 'has_biography': 1, 'followers_ge_30': 1, 'belongs_to_a_list': 1, 'url_in_profile': 1, 'ratio_friends_followers_ge_50': 0, 'default_image_after_2_month': 0, 'friends_ge_100': 1, 'no_bio': 0, 'no_location': 0, 'nb_friends': 1466}}\n"
     ]
    }
   ],
   "source": [
    "print(\"TOTAL accounts: \" + str(users.size))\n",
    "print(\"# fake accounts: \" + str(nb_fake_acc))\n",
    "print(\"# human accounts: \" + str(nb_hum_acc))\n",
    "print(\"Features name: \" + str(list(features_name)))\n",
    "print(dataset[0])"
   ]
  },
  {
   "cell_type": "code",
   "execution_count": 7,
   "metadata": {},
   "outputs": [],
   "source": [
    "import pandas as pd\n",
    "                                                                     \n",
    "original_df = pd.DataFrame(dataset)                                        \n",
    "original_df.to_pickle(\"hum_features.pkl\")"
   ]
  },
  {
   "cell_type": "code",
   "execution_count": 8,
   "metadata": {},
   "outputs": [
    {
     "name": "stdout",
     "output_type": "stream",
     "text": [
      "              id     screen_name  \\\n",
      "0          24503      Bonanzinga   \n",
      "1          22903         effeffe   \n",
      "2         382393            ciro   \n",
      "3         286543         abragad   \n",
      "4         438023    fullcaffeine   \n",
      "...          ...             ...   \n",
      "1945  1127280169         frilaif   \n",
      "1946  1156344000    Stronzetta__   \n",
      "1947  1169114810  angelagervasi2   \n",
      "1948  1212975186         Movie1O   \n",
      "1949  1213937306  xjawaadscookie   \n",
      "\n",
      "                                               features  \n",
      "0     {'friends/follower_ratio': 5.7370898357435176e...  \n",
      "1     {'friends/follower_ratio': 0.01113406795224977...  \n",
      "2     {'friends/follower_ratio': 0.00062475783124930...  \n",
      "3     {'friends/follower_ratio': 0.00061856862064978...  \n",
      "4     {'friends/follower_ratio': 0.01483510975976477...  \n",
      "...                                                 ...  \n",
      "1945  {'friends/follower_ratio': 0.00286612426035502...  \n",
      "1946  {'friends/follower_ratio': 0.11363636363636363...  \n",
      "1947  {'friends/follower_ratio': 0, 'bot_in_biograph...  \n",
      "1948  {'friends/follower_ratio': 1.0, 'bot_in_biogra...  \n",
      "1949  {'friends/follower_ratio': 0.00276783467666658...  \n",
      "\n",
      "[1950 rows x 3 columns]\n"
     ]
    }
   ],
   "source": [
    "import pandas as pd\n",
    "\n",
    "hum_features = pd.read_pickle(\"hum_features.pkl\")\n",
    "hum_number = len(hum_features)\n",
    "print(hum_features)"
   ]
  },
  {
   "cell_type": "markdown",
   "metadata": {},
   "source": [
    "## Crawl retweet ratio through tweepy (You need tokens & key)"
   ]
  },
  {
   "cell_type": "code",
   "execution_count": 9,
   "metadata": {},
   "outputs": [],
   "source": [
    "import tweepy\n",
    "\n",
    "access_token = xxx                                                          \n",
    "access_token_secret = xxx\n",
    "consumer_key = xxx                                                       \n",
    "consumer_secret = xxx\n",
    "\n",
    "auth = tweepy.OAuthHandler(consumer_key, consumer_secret)\n",
    "auth.set_access_token(access_token, access_token_secret)\n",
    "\n",
    "api = tweepy.API(auth)"
   ]
  },
  {
   "cell_type": "code",
   "execution_count": 10,
   "metadata": {},
   "outputs": [
    {
     "name": "stdout",
     "output_type": "stream",
     "text": [
      "Bonanzinga\n"
     ]
    },
    {
     "ename": "RateLimitError",
     "evalue": "[{'message': 'Rate limit exceeded', 'code': 88}]",
     "output_type": "error",
     "traceback": [
      "\u001b[1;31m---------------------------------------------------------------------------\u001b[0m",
      "\u001b[1;31mRateLimitError\u001b[0m                            Traceback (most recent call last)",
      "\u001b[1;32m<ipython-input-10-956c8ea6ab46>\u001b[0m in \u001b[0;36m<module>\u001b[1;34m\u001b[0m\n\u001b[0;32m     21\u001b[0m     \u001b[0mnum_retweets\u001b[0m \u001b[1;33m=\u001b[0m \u001b[1;36m0\u001b[0m\u001b[1;33m\u001b[0m\u001b[1;33m\u001b[0m\u001b[0m\n\u001b[0;32m     22\u001b[0m     \u001b[1;32mfor\u001b[0m \u001b[0mpost_id\u001b[0m \u001b[1;32min\u001b[0m \u001b[0mtweets_id\u001b[0m\u001b[1;33m:\u001b[0m\u001b[1;33m\u001b[0m\u001b[1;33m\u001b[0m\u001b[0m\n\u001b[1;32m---> 23\u001b[1;33m         \u001b[0mretweets_list\u001b[0m \u001b[1;33m=\u001b[0m \u001b[0mapi\u001b[0m\u001b[1;33m.\u001b[0m\u001b[0mretweets\u001b[0m\u001b[1;33m(\u001b[0m\u001b[0mid\u001b[0m\u001b[1;33m=\u001b[0m\u001b[0mpost_id\u001b[0m\u001b[1;33m)\u001b[0m\u001b[1;33m\u001b[0m\u001b[1;33m\u001b[0m\u001b[0m\n\u001b[0m\u001b[0;32m     24\u001b[0m         \u001b[0mprint\u001b[0m\u001b[1;33m(\u001b[0m\u001b[0mlen\u001b[0m\u001b[1;33m(\u001b[0m\u001b[0mretweets_list\u001b[0m\u001b[1;33m)\u001b[0m\u001b[1;33m)\u001b[0m\u001b[1;33m\u001b[0m\u001b[1;33m\u001b[0m\u001b[0m\n\u001b[0;32m     25\u001b[0m         \u001b[1;31m# printing the screen names of the retweeters\u001b[0m\u001b[1;33m\u001b[0m\u001b[1;33m\u001b[0m\u001b[1;33m\u001b[0m\u001b[0m\n",
      "\u001b[1;32m~\\Anaconda3\\lib\\site-packages\\tweepy\\binder.py\u001b[0m in \u001b[0;36m_call\u001b[1;34m(*args, **kwargs)\u001b[0m\n\u001b[0;32m    250\u001b[0m                 \u001b[1;32mreturn\u001b[0m \u001b[0mmethod\u001b[0m\u001b[1;33m\u001b[0m\u001b[1;33m\u001b[0m\u001b[0m\n\u001b[0;32m    251\u001b[0m             \u001b[1;32melse\u001b[0m\u001b[1;33m:\u001b[0m\u001b[1;33m\u001b[0m\u001b[1;33m\u001b[0m\u001b[0m\n\u001b[1;32m--> 252\u001b[1;33m                 \u001b[1;32mreturn\u001b[0m \u001b[0mmethod\u001b[0m\u001b[1;33m.\u001b[0m\u001b[0mexecute\u001b[0m\u001b[1;33m(\u001b[0m\u001b[1;33m)\u001b[0m\u001b[1;33m\u001b[0m\u001b[1;33m\u001b[0m\u001b[0m\n\u001b[0m\u001b[0;32m    253\u001b[0m         \u001b[1;32mfinally\u001b[0m\u001b[1;33m:\u001b[0m\u001b[1;33m\u001b[0m\u001b[1;33m\u001b[0m\u001b[0m\n\u001b[0;32m    254\u001b[0m             \u001b[0mmethod\u001b[0m\u001b[1;33m.\u001b[0m\u001b[0msession\u001b[0m\u001b[1;33m.\u001b[0m\u001b[0mclose\u001b[0m\u001b[1;33m(\u001b[0m\u001b[1;33m)\u001b[0m\u001b[1;33m\u001b[0m\u001b[1;33m\u001b[0m\u001b[0m\n",
      "\u001b[1;32m~\\Anaconda3\\lib\\site-packages\\tweepy\\binder.py\u001b[0m in \u001b[0;36mexecute\u001b[1;34m(self)\u001b[0m\n\u001b[0;32m    230\u001b[0m \u001b[1;33m\u001b[0m\u001b[0m\n\u001b[0;32m    231\u001b[0m                 \u001b[1;32mif\u001b[0m \u001b[0mis_rate_limit_error_message\u001b[0m\u001b[1;33m(\u001b[0m\u001b[0merror_msg\u001b[0m\u001b[1;33m)\u001b[0m\u001b[1;33m:\u001b[0m\u001b[1;33m\u001b[0m\u001b[1;33m\u001b[0m\u001b[0m\n\u001b[1;32m--> 232\u001b[1;33m                     \u001b[1;32mraise\u001b[0m \u001b[0mRateLimitError\u001b[0m\u001b[1;33m(\u001b[0m\u001b[0merror_msg\u001b[0m\u001b[1;33m,\u001b[0m \u001b[0mresp\u001b[0m\u001b[1;33m)\u001b[0m\u001b[1;33m\u001b[0m\u001b[1;33m\u001b[0m\u001b[0m\n\u001b[0m\u001b[0;32m    233\u001b[0m                 \u001b[1;32melse\u001b[0m\u001b[1;33m:\u001b[0m\u001b[1;33m\u001b[0m\u001b[1;33m\u001b[0m\u001b[0m\n\u001b[0;32m    234\u001b[0m                     \u001b[1;32mraise\u001b[0m \u001b[0mTweepError\u001b[0m\u001b[1;33m(\u001b[0m\u001b[0merror_msg\u001b[0m\u001b[1;33m,\u001b[0m \u001b[0mresp\u001b[0m\u001b[1;33m,\u001b[0m \u001b[0mapi_code\u001b[0m\u001b[1;33m=\u001b[0m\u001b[0mapi_error_code\u001b[0m\u001b[1;33m)\u001b[0m\u001b[1;33m\u001b[0m\u001b[1;33m\u001b[0m\u001b[0m\n",
      "\u001b[1;31mRateLimitError\u001b[0m: [{'message': 'Rate limit exceeded', 'code': 88}]"
     ]
    }
   ],
   "source": [
    "dataset = list()\n",
    "\n",
    "for idx, row in hum_features.iterrows() :\n",
    "    instance = dict()\n",
    "    acc_feat=dict()\n",
    "    print(row[\"screen_name\"])\n",
    "    try :\n",
    "        user = api.get_user(row[\"screen_name\"])\n",
    "    except :\n",
    "        continue\n",
    "    #user_info = api.lookup_users(user_ids=[user.id])\n",
    "\n",
    "    statuses = api.user_timeline(user.screen_name) \n",
    "    \n",
    "    tweets_len = list()\n",
    "    tweets_id=list()\n",
    "    for status in statuses:\n",
    "        tweets_id.append(status.id)\n",
    "        tweets_len.append(len(status.text))\n",
    "\n",
    "    num_retweets = 0\n",
    "    for post_id in tweets_id:\n",
    "        retweets_list = api.retweets(id=post_id) \n",
    "        print(len(retweets_list))\n",
    "        # printing the screen names of the retweeters \n",
    "        if len(retweets_list) > 0 :\n",
    "            num_retweets += 1\n",
    "        \n",
    "    num_posts = len(tweets_id)\n",
    "    if num_posts == 0:\n",
    "        retweet_ratio = 0\n",
    "    else : \n",
    "        retweet_ratio = num_retweets/num_posts\n",
    "    post_length_avg = sum(tweets_len)/len(tweets_len)\n",
    "    \n",
    "    acc_feat[\"retweet_ratio\"] =retweet_ratio\n",
    "    acc_feat[\"post_length\"] = post_length_avg\n",
    "    features = row[\"features\"]\n",
    "    features = {**features, **acc_feat}\n",
    "    instance[\"id\"]=row[\"id\"]\n",
    "    instance[\"screen_name\"]=row[\"screen_name\"]\n",
    "    instance[\"features\"]=features\n",
    "    dataset.append(instance)\n",
    "        \n",
    "new_features = pd.DataFrame(dataset)\n",
    "hum_features.to_pickle(\"hum_features.pkl\")"
   ]
  },
  {
   "cell_type": "code",
   "execution_count": null,
   "metadata": {},
   "outputs": [],
   "source": []
  }
 ],
 "metadata": {
  "kernelspec": {
   "display_name": "Python 3",
   "language": "python",
   "name": "python3"
  },
  "language_info": {
   "codemirror_mode": {
    "name": "ipython",
    "version": 3
   },
   "file_extension": ".py",
   "mimetype": "text/x-python",
   "name": "python",
   "nbconvert_exporter": "python",
   "pygments_lexer": "ipython3",
   "version": "3.8.3"
  }
 },
 "nbformat": 4,
 "nbformat_minor": 2
}
