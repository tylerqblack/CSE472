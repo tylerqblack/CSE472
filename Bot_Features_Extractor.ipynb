{
 "cells": [
  {
   "cell_type": "markdown",
   "metadata": {},
   "source": [
    "## Load dataset and compute features"
   ]
  },
  {
   "cell_type": "code",
   "execution_count": 1,
   "metadata": {},
   "outputs": [
    {
     "name": "stdout",
     "output_type": "stream",
     "text": [
      "1088\n",
      "{'id': 53805021, 'screen_name': 'guowei534', 'features': {'friends/follower_ratio': 39.888888888888886, 'bot_in_biography': 0, 'bot_in_name': 0, 'has_name': 1, 'has_image': 0, 'has_address': 0, 'has_biography': 0, 'followers_ge_30': 0, 'belongs_to_a_list': 0, 'url_in_profile': 1, 'ratio_friends_followers_ge_50': 1, 'default_image_after_2_month': 1, 'friends_ge_100': 1, 'no_bio': 1, 'no_location': 1, 'nb_friends': 359}}\n"
     ]
    },
    {
     "name": "stderr",
     "output_type": "stream",
     "text": [
      "<ipython-input-1-db2f178d853a>:26: FutureWarning: The pandas.np module is deprecated and will be removed from pandas in a future version. Import numpy directly instead\n",
      "  acc_feat['has_name'] = int(user['name'] not in ['NULL', 'NaN', '', ' ', pd.np.nan])\n",
      "<ipython-input-1-db2f178d853a>:28: FutureWarning: The pandas.np module is deprecated and will be removed from pandas in a future version. Import numpy directly instead\n",
      "  acc_feat['has_address'] = int(user['location'] not in ['NULL', 'NaN', '', ' ', pd.np.nan])\n",
      "<ipython-input-1-db2f178d853a>:29: FutureWarning: The pandas.np module is deprecated and will be removed from pandas in a future version. Import numpy directly instead\n",
      "  acc_feat['has_biography'] = int(user['description'] not in ['NULL', 'NaN', '', ' ', pd.np.nan])\n",
      "<ipython-input-1-db2f178d853a>:32: FutureWarning: The pandas.np module is deprecated and will be removed from pandas in a future version. Import numpy directly instead\n",
      "  acc_feat['url_in_profile'] = int(user['url'] not in ['NULL', 'NaN', '', ' ', pd.np.nan])\n",
      "<ipython-input-1-db2f178d853a>:40: FutureWarning: The pandas.np module is deprecated and will be removed from pandas in a future version. Import numpy directly instead\n",
      "  acc_feat['no_bio'] = int(user['description'] in ['NULL', 'NaN', '', ' ', pd.np.nan])\n",
      "<ipython-input-1-db2f178d853a>:41: FutureWarning: The pandas.np module is deprecated and will be removed from pandas in a future version. Import numpy directly instead\n",
      "  acc_feat['no_location'] = int(user['location'] in ['NULL', 'NaN', '', ' ', pd.np.nan])\n"
     ]
    }
   ],
   "source": [
    "import json\n",
    "import datetime\n",
    "import pandas as pd\n",
    "with open(\"./datasets/vendor-purchased-2019/vendor-purchased-2019_tweets.json\", \"r\") as f:\n",
    "    JSON = json.load(f)\n",
    "print(len(JSON))\n",
    "\n",
    "dataset = []\n",
    "for data in JSON:\n",
    "    instance = dict()\n",
    "    acc_feat = dict()\n",
    "    \n",
    "    UTC = data[\"created_at\"]\n",
    "    user = data[\"user\"]\n",
    "    \n",
    "    #Get \"friends/follower_ratio\" feature\n",
    "    if user[\"followers_count\"] == 0 :\n",
    "        ratio = 0\n",
    "    else:\n",
    "        ratio = user[\"friends_count\"]/(user[\"followers_count\"]**2)\n",
    "        \n",
    "    acc_feat[\"friends/follower_ratio\"] = ratio\n",
    "    acc_feat['bot_in_biography'] = int(type(user['description']) is str and 'bot' in user['description'].lower())\n",
    "    acc_feat['bot_in_name'] = int('bot' in user['screen_name'].lower())\n",
    "    \n",
    "    acc_feat['has_name'] = int(user['name'] not in ['NULL', 'NaN', '', ' ', pd.np.nan])\n",
    "    acc_feat['has_image'] = int(user['default_profile_image'] != 1)\n",
    "    acc_feat['has_address'] = int(user['location'] not in ['NULL', 'NaN', '', ' ', pd.np.nan])\n",
    "    acc_feat['has_biography'] = int(user['description'] not in ['NULL', 'NaN', '', ' ', pd.np.nan])\n",
    "    acc_feat['followers_ge_30'] = int(user['followers_count'] >= 30)\n",
    "    acc_feat['belongs_to_a_list'] = int(user['listed_count'] > 0)\n",
    "    acc_feat['url_in_profile'] = int(user['url'] not in ['NULL', 'NaN', '', ' ', pd.np.nan])\n",
    "    #acc_feat['followers_2_times_ge_friends'] = int(2 * user['followers_count'] >= user['friends_count'])\n",
    "    \n",
    "    #acc_feat['ratio_friends_followers_around_100'] = int(user['followers_count'] > 0 and 80.0 <= float(user['friends_count']) / user['followers_count'] >= 120.0)\n",
    "    \n",
    "    acc_feat['ratio_friends_followers_ge_50'] = int(user['followers_count'] > 0 and float(user['friends_count']) / user['followers_count'] >= 50)\n",
    "    acc_feat['default_image_after_2_month'] = int(user['default_profile_image'] == 1 and (datetime.datetime.now() - datetime.datetime.strptime(user['created_at'],'%a %b %d %H:%M:%S +0000 %Y')) > datetime.timedelta(weeks=4)) \n",
    "    acc_feat['friends_ge_100'] = int(user['friends_count'] >= 100)\n",
    "    acc_feat['no_bio'] = int(user['description'] in ['NULL', 'NaN', '', ' ', pd.np.nan])\n",
    "    acc_feat['no_location'] = int(user['location'] in ['NULL', 'NaN', '', ' ', pd.np.nan])\n",
    "    \n",
    "    acc_feat['nb_friends'] = int(user['friends_count'])\n",
    "    #acc_feat['ratio_friends_followers_square'] = float(user['friends_count']) / pow(user['followers_count'], 2) if user['followers_count'] > 0 else 0\n",
    "    #acc_feat['age'] = (datetime.datetime.now() - datetime.datetime.strptime(user['created_at'],'%a %b %d %H:%M:%S +0000 %Y')).total_seconds()\n",
    "    #acc_feat['following_rate'] = float(user['friends_count']) / acc_feat['age']\n",
    "    \n",
    "    \n",
    "    instance[\"id\"] = user[\"id\"]\n",
    "    instance[\"screen_name\"] = user[\"screen_name\"]\n",
    "    instance[\"features\"] = acc_feat\n",
    "    \n",
    "\n",
    "    dataset.append(instance)\n",
    "    \n",
    "print(dataset[0])"
   ]
  },
  {
   "cell_type": "code",
   "execution_count": 2,
   "metadata": {},
   "outputs": [
    {
     "name": "stdout",
     "output_type": "stream",
     "text": [
      "1088\n",
      "736629545512632320\n"
     ]
    }
   ],
   "source": [
    "with open(\"./datasets/vendor-purchased-2019/vendor-purchased-2019.tsv\", \"r\") as f :\n",
    "    TSV = f.readlines()\n",
    "print(len(TSV))    \n",
    "\n",
    "labels = []\n",
    "for label in TSV:\n",
    "    #All user_ids in TSV are bot.\n",
    "    bot_user_id = label.split()[0]\n",
    "    labels.append(int(bot_user_id))\n",
    "\n",
    "print(labels[0])"
   ]
  },
  {
   "cell_type": "code",
   "execution_count": 3,
   "metadata": {},
   "outputs": [],
   "source": [
    "import pandas as pd\n",
    "\n",
    "original_df = pd.DataFrame(dataset)                                        \n",
    "original_df.to_pickle(\"bot_features.pkl\")"
   ]
  },
  {
   "cell_type": "code",
   "execution_count": 4,
   "metadata": {},
   "outputs": [
    {
     "name": "stdout",
     "output_type": "stream",
     "text": [
      "                      id      screen_name  \\\n",
      "0               53805021        guowei534   \n",
      "1               66317516          Aridego   \n",
      "2              483428005  FinalFantasyRef   \n",
      "3              512754110   sherif35040661   \n",
      "4             2583514062      ProphetNyce   \n",
      "...                  ...              ...   \n",
      "1083          1409637493  IsabellaManetti   \n",
      "1084           623584562      FlirtyNotes   \n",
      "1085          2906301805        EraseSoul   \n",
      "1086  948314138886987777          div1rts   \n",
      "1087          3434325791    loa_thesecret   \n",
      "\n",
      "                                               features  \n",
      "0     {'friends/follower_ratio': 39.888888888888886,...  \n",
      "1     {'friends/follower_ratio': 0.16568559556786702...  \n",
      "2     {'friends/follower_ratio': 0.1044140625, 'bot_...  \n",
      "3     {'friends/follower_ratio': 0.5298765432098765,...  \n",
      "4     {'friends/follower_ratio': 183.5, 'bot_in_biog...  \n",
      "...                                                 ...  \n",
      "1083  {'friends/follower_ratio': 1.7397105268315216e...  \n",
      "1084  {'friends/follower_ratio': 8.206643150828697e-...  \n",
      "1085  {'friends/follower_ratio': 1.6546009092406755e...  \n",
      "1086  {'friends/follower_ratio': 0.00025054078533752...  \n",
      "1087  {'friends/follower_ratio': 7.236209099214358e-...  \n",
      "\n",
      "[1088 rows x 3 columns]\n"
     ]
    }
   ],
   "source": [
    "import pandas as pd\n",
    "\n",
    "#Load N features and add Label, and make label y\n",
    "bot_features = pd.read_pickle(\"bot_features.pkl\")\n",
    "bot_number = len(bot_features)\n",
    "\n",
    "print(bot_features)"
   ]
  },
  {
   "cell_type": "code",
   "execution_count": 5,
   "metadata": {},
   "outputs": [
    {
     "name": "stdout",
     "output_type": "stream",
     "text": [
      "{'friends/follower_ratio': 39.888888888888886, 'bot_in_biography': 0, 'bot_in_name': 0, 'has_name': 1, 'has_image': 0, 'has_address': 0, 'has_biography': 0, 'followers_ge_30': 0, 'belongs_to_a_list': 0, 'url_in_profile': 1, 'ratio_friends_followers_ge_50': 1, 'default_image_after_2_month': 1, 'friends_ge_100': 1, 'no_bio': 1, 'no_location': 1, 'nb_friends': 359}\n"
     ]
    }
   ],
   "source": [
    "print(bot_features[\"features\"][0])"
   ]
  },
  {
   "cell_type": "markdown",
   "metadata": {},
   "source": [
    "## Crawl retweet ratio through tweepy (You need tokens & key)"
   ]
  },
  {
   "cell_type": "code",
   "execution_count": 6,
   "metadata": {},
   "outputs": [],
   "source": [
    "import tweepy\n",
    "\n",
    "access_token = xxx                                                           \n",
    "access_token_secret = xxx\n",
    "consumer_key = xxx                                                            \n",
    "consumer_secret = xxx \n",
    "\n",
    "auth = tweepy.OAuthHandler(consumer_key, consumer_secret)\n",
    "auth.set_access_token(access_token, access_token_secret)\n",
    "\n",
    "api = tweepy.API(auth)"
   ]
  },
  {
   "cell_type": "code",
   "execution_count": 7,
   "metadata": {},
   "outputs": [
    {
     "name": "stdout",
     "output_type": "stream",
     "text": [
      "guowei534\n"
     ]
    },
    {
     "ename": "RateLimitError",
     "evalue": "[{'message': 'Rate limit exceeded', 'code': 88}]",
     "output_type": "error",
     "traceback": [
      "\u001b[1;31m---------------------------------------------------------------------------\u001b[0m",
      "\u001b[1;31mRateLimitError\u001b[0m                            Traceback (most recent call last)",
      "\u001b[1;32m<ipython-input-7-eff37f7b6d6d>\u001b[0m in \u001b[0;36m<module>\u001b[1;34m\u001b[0m\n\u001b[0;32m     19\u001b[0m     \u001b[0mnum_retweets\u001b[0m \u001b[1;33m=\u001b[0m \u001b[1;36m0\u001b[0m\u001b[1;33m\u001b[0m\u001b[1;33m\u001b[0m\u001b[0m\n\u001b[0;32m     20\u001b[0m     \u001b[1;32mfor\u001b[0m \u001b[0mpost_id\u001b[0m \u001b[1;32min\u001b[0m \u001b[0mtweets_id\u001b[0m\u001b[1;33m:\u001b[0m\u001b[1;33m\u001b[0m\u001b[1;33m\u001b[0m\u001b[0m\n\u001b[1;32m---> 21\u001b[1;33m         \u001b[0mretweets_list\u001b[0m \u001b[1;33m=\u001b[0m \u001b[0mapi\u001b[0m\u001b[1;33m.\u001b[0m\u001b[0mretweets\u001b[0m\u001b[1;33m(\u001b[0m\u001b[0mid\u001b[0m\u001b[1;33m=\u001b[0m\u001b[0mpost_id\u001b[0m\u001b[1;33m)\u001b[0m\u001b[1;33m\u001b[0m\u001b[1;33m\u001b[0m\u001b[0m\n\u001b[0m\u001b[0;32m     22\u001b[0m         \u001b[0mprint\u001b[0m\u001b[1;33m(\u001b[0m\u001b[0mlen\u001b[0m\u001b[1;33m(\u001b[0m\u001b[0mretweets_list\u001b[0m\u001b[1;33m)\u001b[0m\u001b[1;33m)\u001b[0m\u001b[1;33m\u001b[0m\u001b[1;33m\u001b[0m\u001b[0m\n\u001b[0;32m     23\u001b[0m         \u001b[1;31m# printing the screen names of the retweeters\u001b[0m\u001b[1;33m\u001b[0m\u001b[1;33m\u001b[0m\u001b[1;33m\u001b[0m\u001b[0m\n",
      "\u001b[1;32m~\\Anaconda3\\lib\\site-packages\\tweepy\\binder.py\u001b[0m in \u001b[0;36m_call\u001b[1;34m(*args, **kwargs)\u001b[0m\n\u001b[0;32m    250\u001b[0m                 \u001b[1;32mreturn\u001b[0m \u001b[0mmethod\u001b[0m\u001b[1;33m\u001b[0m\u001b[1;33m\u001b[0m\u001b[0m\n\u001b[0;32m    251\u001b[0m             \u001b[1;32melse\u001b[0m\u001b[1;33m:\u001b[0m\u001b[1;33m\u001b[0m\u001b[1;33m\u001b[0m\u001b[0m\n\u001b[1;32m--> 252\u001b[1;33m                 \u001b[1;32mreturn\u001b[0m \u001b[0mmethod\u001b[0m\u001b[1;33m.\u001b[0m\u001b[0mexecute\u001b[0m\u001b[1;33m(\u001b[0m\u001b[1;33m)\u001b[0m\u001b[1;33m\u001b[0m\u001b[1;33m\u001b[0m\u001b[0m\n\u001b[0m\u001b[0;32m    253\u001b[0m         \u001b[1;32mfinally\u001b[0m\u001b[1;33m:\u001b[0m\u001b[1;33m\u001b[0m\u001b[1;33m\u001b[0m\u001b[0m\n\u001b[0;32m    254\u001b[0m             \u001b[0mmethod\u001b[0m\u001b[1;33m.\u001b[0m\u001b[0msession\u001b[0m\u001b[1;33m.\u001b[0m\u001b[0mclose\u001b[0m\u001b[1;33m(\u001b[0m\u001b[1;33m)\u001b[0m\u001b[1;33m\u001b[0m\u001b[1;33m\u001b[0m\u001b[0m\n",
      "\u001b[1;32m~\\Anaconda3\\lib\\site-packages\\tweepy\\binder.py\u001b[0m in \u001b[0;36mexecute\u001b[1;34m(self)\u001b[0m\n\u001b[0;32m    230\u001b[0m \u001b[1;33m\u001b[0m\u001b[0m\n\u001b[0;32m    231\u001b[0m                 \u001b[1;32mif\u001b[0m \u001b[0mis_rate_limit_error_message\u001b[0m\u001b[1;33m(\u001b[0m\u001b[0merror_msg\u001b[0m\u001b[1;33m)\u001b[0m\u001b[1;33m:\u001b[0m\u001b[1;33m\u001b[0m\u001b[1;33m\u001b[0m\u001b[0m\n\u001b[1;32m--> 232\u001b[1;33m                     \u001b[1;32mraise\u001b[0m \u001b[0mRateLimitError\u001b[0m\u001b[1;33m(\u001b[0m\u001b[0merror_msg\u001b[0m\u001b[1;33m,\u001b[0m \u001b[0mresp\u001b[0m\u001b[1;33m)\u001b[0m\u001b[1;33m\u001b[0m\u001b[1;33m\u001b[0m\u001b[0m\n\u001b[0m\u001b[0;32m    233\u001b[0m                 \u001b[1;32melse\u001b[0m\u001b[1;33m:\u001b[0m\u001b[1;33m\u001b[0m\u001b[1;33m\u001b[0m\u001b[0m\n\u001b[0;32m    234\u001b[0m                     \u001b[1;32mraise\u001b[0m \u001b[0mTweepError\u001b[0m\u001b[1;33m(\u001b[0m\u001b[0merror_msg\u001b[0m\u001b[1;33m,\u001b[0m \u001b[0mresp\u001b[0m\u001b[1;33m,\u001b[0m \u001b[0mapi_code\u001b[0m\u001b[1;33m=\u001b[0m\u001b[0mapi_error_code\u001b[0m\u001b[1;33m)\u001b[0m\u001b[1;33m\u001b[0m\u001b[1;33m\u001b[0m\u001b[0m\n",
      "\u001b[1;31mRateLimitError\u001b[0m: [{'message': 'Rate limit exceeded', 'code': 88}]"
     ]
    }
   ],
   "source": [
    "dataset = list()\n",
    "for idx, row in bot_features.iterrows() :\n",
    "    instance = dict()\n",
    "    acc_feat = dict()\n",
    "    print(row[\"screen_name\"])\n",
    "    try:\n",
    "        user = api.get_user(row[\"screen_name\"])\n",
    "    except:\n",
    "        continue\n",
    "    #user_info = api.lookup_users(user_ids=[user.id])\n",
    "\n",
    "    statuses = api.user_timeline(user.screen_name) \n",
    "    tweets_len = list()\n",
    "    tweets_id=list()\n",
    "    for status in statuses: \n",
    "        tweets_id.append(status.id)\n",
    "        tweets_len.append(len(status.text))\n",
    "\n",
    "    num_retweets = 0\n",
    "    for post_id in tweets_id:\n",
    "        retweets_list = api.retweets(id=post_id) \n",
    "        print(len(retweets_list))\n",
    "        # printing the screen names of the retweeters \n",
    "        num_retweets += len(retweets_list)\n",
    "    num_posts = len(tweets_id)\n",
    "    if num_posts == 0:\n",
    "        retweet_ratio = 0\n",
    "    else : \n",
    "        retweet_ratio = num_retweets/num_posts\n",
    "    post_length_avg = sum(tweets_len)/len(tweets_len)\n",
    "    acc_feat[\"retweet_ratio\"] =retweet_ratio\n",
    "    acc_feat[\"post_length\"] = post_length_avg\n",
    "    features = row[\"features\"]\n",
    "    features = {**features, **acc_feat}\n",
    "    instance[\"id\"]=row[\"id\"]\n",
    "    instance[\"screen_name\"]=row[\"screen_name\"]\n",
    "    instance[\"features\"]=features\n",
    "    dataset.append(instance)\n",
    "    \n",
    "new_features = pd.DataFrame(dataset)\n",
    "bot_features.append(dataset, ignore_index = True)\n",
    "bot_features.to_pickle(\"bot_features.pkl\")"
   ]
  },
  {
   "cell_type": "code",
   "execution_count": null,
   "metadata": {},
   "outputs": [],
   "source": []
  }
 ],
 "metadata": {
  "kernelspec": {
   "display_name": "Python 3",
   "language": "python",
   "name": "python3"
  },
  "language_info": {
   "codemirror_mode": {
    "name": "ipython",
    "version": 3
   },
   "file_extension": ".py",
   "mimetype": "text/x-python",
   "name": "python",
   "nbconvert_exporter": "python",
   "pygments_lexer": "ipython3",
   "version": "3.8.3"
  }
 },
 "nbformat": 4,
 "nbformat_minor": 4
}
