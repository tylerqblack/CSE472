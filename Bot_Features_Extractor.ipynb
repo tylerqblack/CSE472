{
 "cells": [
  {
   "cell_type": "code",
   "execution_count": 5,
   "metadata": {},
   "outputs": [
    {
     "name": "stdout",
     "output_type": "stream",
     "text": [
      "1088\n",
      "{'id': 53805021, 'features': {'friends/follower_ratio': 119.66666666666667, 'is_bot_in_name': 0}}\n"
     ]
    }
   ],
   "source": [
    "import json\n",
    "\n",
    "with open(\"./vendor-purchased-2019/vendor-purchased-2019_tweets.json\", \"r\") as f:\n",
    "    JSON = json.load(f)\n",
    "print(len(JSON))\n",
    "\n",
    "dataset = []\n",
    "for data in JSON:\n",
    "    instance = dict()\n",
    "    features = dict()\n",
    "    \n",
    "    UTC = data[\"created_at\"]\n",
    "    user = data[\"user\"]\n",
    "    \n",
    "    #Get \"friends/follower_ratio\" feature\n",
    "    if user[\"followers_count\"] == 0 :\n",
    "        ratio = 0\n",
    "    else:\n",
    "        ratio = user[\"friends_count\"]/user[\"followers_count\"]\n",
    "        \n",
    "    features[\"friends/follower_ratio\"] = ratio\n",
    "    \n",
    "    #Get \"is_bot_in_name\" feature\n",
    "    if \"bot\" in user[\"screen_name\"]:\n",
    "        is_name = 1\n",
    "    else:\n",
    "        is_name = 0\n",
    "        \n",
    "    features[\"is_bot_in_name\"] = is_name\n",
    "    \n",
    "    #Save ID and extracted features\n",
    "    instance[\"id\"] = user[\"id\"]\n",
    "    instance[\"features\"] = features\n",
    "    \n",
    "    dataset.append(instance)\n",
    "    \n",
    "print(dataset[0])"
   ]
  },
  {
   "cell_type": "code",
   "execution_count": 17,
   "metadata": {},
   "outputs": [
    {
     "name": "stdout",
     "output_type": "stream",
     "text": [
      "1088\n",
      "736629545512632320\n"
     ]
    }
   ],
   "source": [
    "with open(\"./vendor-purchased-2019/vendor-purchased-2019.tsv\", \"r\") as f :\n",
    "    TSV = f.readlines()\n",
    "print(len(TSV))    \n",
    "\n",
    "labels = []\n",
    "for label in TSV:\n",
    "    #All user_ids in TSV are bot.\n",
    "    bot_user_id = label.split()[0]\n",
    "    labels.append(int(bot_user_id))\n",
    "\n",
    "print(labels[0])"
   ]
  },
  {
   "cell_type": "code",
   "execution_count": 30,
   "metadata": {},
   "outputs": [
    {
     "name": "stdout",
     "output_type": "stream",
     "text": [
      "[119.66666666666667, 0] False\n",
      "1087 1087\n"
     ]
    }
   ],
   "source": [
    "def divide_dataset(X, y) :\n",
    "    from sklearn.model_selection import train_test_split\n",
    "    X_train, X_test, y_train, y_test = train_test_split(X, y, test_size=0.33, random_state=42)\n",
    "    return (X_train, X_test, y_train, y_test)\n",
    "\n",
    "#X is features, y is labels\n",
    "X = []\n",
    "Y = []\n",
    "for data in dataset :\n",
    "    #Add label False to Y if user in JSON exists in TSV\n",
    "    if data[\"id\"] in labels :\n",
    "        Y.append(False)\n",
    "    else:\n",
    "        continue \n",
    "        \n",
    "    #Add every features to X.\n",
    "    features = []\n",
    "    for feature in data[\"features\"].values():\n",
    "        features.append(feature)\n",
    "        \n",
    "    X.append(features)\n",
    "print(X[0], Y[0])\n",
    "print(len(X), len(Y))\n",
    "\n",
    "X_train, X_test, y_train, y_test = divide_dataset(X, Y)"
   ]
  },
  {
   "cell_type": "code",
   "execution_count": 31,
   "metadata": {},
   "outputs": [],
   "source": [
    "import time\n",
    "import datetime\n",
    "def train(classifier, name, param_grid=None) :\n",
    "    start_time = time.time()\n",
    "    if param_grid == None :\n",
    "        classifier.fit(X_train, y_train)\n",
    "        results[name] = dict(model=classifier)\n",
    "    else :\n",
    "        grid = GridSearchCV(classifier, param_grid, cv=10, scoring='accuracy', n_jobs=2) # Do a 10-fold cross validation\n",
    "        grid.fit(X, y) # fit the grid with data\n",
    "        results[name] = dict(grid=grid, model=classifier)\n",
    "    #total_time = datetime.datetime.fromtimestamp(time.time() - start_time)\n",
    "    total_time = datetime.timedelta(seconds=time.time() - start_time)\n",
    "    print(\"Training time : \" + str(total_time))#.strftime('%H:%M:%S'))"
   ]
  }
 ],
 "metadata": {
  "kernelspec": {
   "display_name": "Python 3",
   "language": "python",
   "name": "python3"
  },
  "language_info": {
   "codemirror_mode": {
    "name": "ipython",
    "version": 3
   },
   "file_extension": ".py",
   "mimetype": "text/x-python",
   "name": "python",
   "nbconvert_exporter": "python",
   "pygments_lexer": "ipython3",
   "version": "3.8.3"
  }
 },
 "nbformat": 4,
 "nbformat_minor": 4
}
